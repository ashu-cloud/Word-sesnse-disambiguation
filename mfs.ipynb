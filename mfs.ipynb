{
  "cells": [
    {
      "cell_type": "code",
      "execution_count": null,
      "metadata": {
        "id": "5VDB8S-_PUJS"
      },
      "outputs": [],
      "source": [
        "import copy, re"
      ]
    },
    {
      "cell_type": "code",
      "execution_count": null,
      "metadata": {
        "colab": {
          "base_uri": "https://localhost:8080/"
        },
        "id": "dQm4lfWD8BIM",
        "outputId": "5329864b-69b0-49a9-d8dd-5b8dc005456e"
      },
      "outputs": [
        {
          "output_type": "stream",
          "name": "stderr",
          "text": [
            "[nltk_data] Downloading package semcor to /root/nltk_data...\n",
            "[nltk_data] Downloading package wordnet to /root/nltk_data...\n"
          ]
        },
        {
          "output_type": "execute_result",
          "data": {
            "text/plain": [
              "True"
            ]
          },
          "metadata": {},
          "execution_count": 2
        }
      ],
      "source": [
        "from nltk.corpus import semcor\n",
        "import nltk\n",
        "import numpy\n",
        "\n",
        "nltk.download(\"semcor\")\n",
        "nltk.download('wordnet')"
      ]
    },
    {
      "cell_type": "code",
      "source": [
        "from nltk.corpus import wordnet as wn"
      ],
      "metadata": {
        "id": "QYO59HEwx0j3"
      },
      "execution_count": null,
      "outputs": []
    },
    {
      "cell_type": "code",
      "execution_count": null,
      "metadata": {
        "colab": {
          "base_uri": "https://localhost:8080/"
        },
        "id": "cDBrN7XK8WnQ",
        "outputId": "d038ae4f-8644-46b2-d3c2-104b2e9f2e76"
      },
      "outputs": [
        {
          "name": "stdout",
          "output_type": "stream",
          "text": [
            "Help on method tagged_sents in module nltk.corpus.reader.semcor:\n",
            "\n",
            "tagged_sents(fileids=None, tag='pos') method of nltk.corpus.reader.semcor.SemcorCorpusReader instance\n",
            "    :return: the given file(s) as a list of sentences. Each sentence\n",
            "        is represented as a list of tagged chunks (in tree form).\n",
            "    :rtype: list(list(Tree))\n",
            "    \n",
            "    :param tag: `'pos'` (part of speech), `'sem'` (semantic), or `'both'`\n",
            "        to indicate the kind of tags to include.  Semantic tags consist of\n",
            "        WordNet lemma IDs, plus an `'NE'` node if the chunk is a named entity\n",
            "        without a specific entry in WordNet.  (Named entities of type 'other'\n",
            "        have no lemma.  Other chunks not in WordNet have no semantic tag.\n",
            "        Punctuation tokens have `None` for their part of speech tag.)\n",
            "\n"
          ]
        }
      ],
      "source": [
        "help(semcor.tagged_sents)"
      ]
    },
    {
      "cell_type": "code",
      "execution_count": null,
      "metadata": {
        "id": "3e52Ufjgqu-j"
      },
      "outputs": [],
      "source": [
        "input_seq=\"Jacob wants to immerse himself in some books.\""
      ]
    },
    {
      "cell_type": "code",
      "execution_count": null,
      "metadata": {
        "id": "2XPWaOHWrLlk"
      },
      "outputs": [],
      "source": [
        "from nltk.corpus import semcor\n",
        "tagged_sents = [[str(c) for c in s] for s in semcor.tagged_sents(tag='sem')]\n",
        "tagged_sents_actual = semcor.tagged_sents(tag='sem')"
      ]
    },
    {
      "cell_type": "code",
      "execution_count": null,
      "metadata": {
        "colab": {
          "base_uri": "https://localhost:8080/",
          "height": 73
        },
        "id": "IH1vo-c4sIkz",
        "outputId": "fde5148e-c9ff-40de-bde0-d5dc002f6583"
      },
      "outputs": [
        {
          "output_type": "stream",
          "name": "stdout",
          "text": [
            "[\"['The']\", '(september.n.01 September)', '(october.n.01 October)', '(term.n.02 term)', '(jury.n.01 jury)', \"['had']\", \"['been']\", '(charge.v.05 charged)', \"['by']\", '(location.n.01 (NE Fulton))', '(person.n.01 (NE Superior Court Judge Durwood Pye))', \"['to']\", '(investigate.v.02 investigate)', '(report.n.03 reports)', \"['of']\", '(possible.a.02 possible)', \"['``']\", '(irregularity.n.01 irregularities)', '[\"\\'\\'\"]', \"['in']\", \"['the']\", '(hard-fought.s.01 hard-fought)', '(primary.n.01 primary)', \"['which']\", \"['was']\", '(win.v.01 won)', \"['by']\", '(person.n.01 (NE Mayor-nominate Ivan Allen Jr.))', \"['.']\"]\n"
          ]
        },
        {
          "output_type": "execute_result",
          "data": {
            "text/plain": [
              "'(september.n.01 September)'"
            ],
            "application/vnd.google.colaboratory.intrinsic+json": {
              "type": "string"
            }
          },
          "metadata": {},
          "execution_count": 4
        }
      ],
      "source": [
        "print(tagged_sents[2])\n",
        "tagged_sents[2][1]"
      ]
    },
    {
      "cell_type": "code",
      "execution_count": null,
      "metadata": {
        "id": "rizXiLJshIX4"
      },
      "outputs": [],
      "source": [
        "tagged_sents[2]\n",
        "tagged_dataset=[]\n",
        "for sent in tagged_sents:\n",
        "    my_arr=[]\n",
        "    for word in sent:\n",
        "        if word[0]==\"[\":\n",
        "            my_arr.append([word.replace(\"[\",\"\").replace(\"]\",\"\").replace(\"\\'\",\"\"),\"None\"])\n",
        "        elif word[0]==\"(\":\n",
        "            synset=word.split(\" \")[0][1:]\n",
        "            chunk=(\" \").join(word.split(\" \")[1:]).strip()\n",
        "            if chunk[0]==\"(\":\n",
        "                chunk=chunk[1:-2].strip()\n",
        "                if chunk[:2]==\"NE\":\n",
        "                    chunk=chunk[2:].strip()\n",
        "                else:\n",
        "                    print(\"found other tag \", chunk[:5])\n",
        "            else:\n",
        "                chunk=chunk[:-1].strip()\n",
        "            my_arr.append([chunk,synset])\n",
        "                \n",
        "        else:\n",
        "            print(\"error \",word)\n",
        "    tagged_dataset.append(my_arr)"
      ]
    },
    {
      "cell_type": "code",
      "execution_count": null,
      "metadata": {
        "colab": {
          "base_uri": "https://localhost:8080/"
        },
        "id": "879OpTE4rIxE",
        "outputId": "e3e74900-653c-4dac-a9aa-d3af064d1476"
      },
      "outputs": [
        {
          "output_type": "execute_result",
          "data": {
            "text/plain": [
              "[['The', 'None'],\n",
              " ['Fulton County Grand Jury', 'group.n.01'],\n",
              " ['said', 'say.v.01'],\n",
              " ['Friday', 'friday.n.01'],\n",
              " ['an', 'None'],\n",
              " ['investigation', 'investigation.n.01'],\n",
              " ['of', 'None'],\n",
              " ['Atlanta', 'atlanta.n.01'],\n",
              " ['\"s\"', 'None'],\n",
              " ['recent', 'recent.s.02'],\n",
              " ['primary election', 'primary_election.n.01'],\n",
              " ['produced', 'produce.v.04'],\n",
              " ['``', 'None'],\n",
              " ['no', 'None'],\n",
              " ['evidence', 'evidence.n.01'],\n",
              " ['\"\"', 'None'],\n",
              " ['that', 'None'],\n",
              " ['any', 'None'],\n",
              " ['irregularities', 'irregularity.n.01'],\n",
              " ['took place', 'take_place.v.01'],\n",
              " ['.', 'None']]"
            ]
          },
          "metadata": {},
          "execution_count": 6
        }
      ],
      "source": [
        "tagged_dataset[0]"
      ]
    },
    {
      "cell_type": "code",
      "execution_count": null,
      "metadata": {
        "id": "faK0md4VpiDd"
      },
      "outputs": [],
      "source": [
        "MFS = {}\n",
        "for sent in tagged_dataset:\n",
        "    for pair in sent:\n",
        "        chunk = pair[0]\n",
        "        sense = pair[1]\n",
        "        if chunk not in MFS:\n",
        "            MFS[chunk] = {sense:1}\n",
        "        else:\n",
        "            if sense not in MFS[chunk]:\n",
        "                MFS[chunk][sense] = 1\n",
        "            else:\n",
        "                MFS[chunk][sense] += 1\n",
        "\n",
        "\n",
        "\n",
        "for chunk in MFS:\n",
        "    MFS[chunk] = sorted(MFS[chunk], key = lambda x: MFS[chunk][x], reverse = True)[0]"
      ]
    },
    {
      "cell_type": "code",
      "execution_count": null,
      "metadata": {
        "id": "COed9H92pxj5"
      },
      "outputs": [],
      "source": [
        "untagged_dataset=[]\n",
        "for sent in semcor.chunk_sents():\n",
        "    my_arr=[]\n",
        "    for chunk in sent:\n",
        "        if len(chunk)==1:\n",
        "            my_arr.append(chunk)\n",
        "        else:\n",
        "            my_arr.append((\" \").join(chunk).strip())\n",
        "    untagged_dataset.append(my_arr)"
      ]
    },
    {
      "cell_type": "code",
      "execution_count": null,
      "metadata": {
        "id": "E1F3AXnTqgrT"
      },
      "outputs": [],
      "source": [
        "def most_freq_sense(index):\n",
        "    chunked = untagged_dataset[int(index)] #Gradio takes text\n",
        "    d = []\n",
        "    for word in chunked:\n",
        "        if type(word) == list:\n",
        "            word = word[0]\n",
        "        \n",
        "        if word in MFS:\n",
        "            sense = MFS[word]\n",
        "        else:\n",
        "            continue\n",
        "        \n",
        "        try:\n",
        "            if sense.split('.')[1] == 'n':\n",
        "                d.append(sense)\n",
        "        except:\n",
        "            pass\n",
        "    return ', '.join(d) #Output senses"
      ]
    },
    {
      "cell_type": "code",
      "execution_count": null,
      "metadata": {
        "colab": {
          "base_uri": "https://localhost:8080/"
        },
        "id": "tuLQXJkTtJlk",
        "outputId": "36b4ff18-086e-448e-e24e-85770920fcc5"
      },
      "outputs": [
        {
          "output_type": "execute_result",
          "data": {
            "text/plain": [
              "[['The'],\n",
              " 'Fulton County Grand Jury',\n",
              " ['said'],\n",
              " ['Friday'],\n",
              " ['an'],\n",
              " ['investigation'],\n",
              " ['of'],\n",
              " ['Atlanta'],\n",
              " [\"'s\"],\n",
              " ['recent'],\n",
              " 'primary election',\n",
              " ['produced'],\n",
              " ['``'],\n",
              " ['no'],\n",
              " ['evidence'],\n",
              " [\"''\"],\n",
              " ['that'],\n",
              " ['any'],\n",
              " ['irregularities'],\n",
              " 'took place',\n",
              " ['.']]"
            ]
          },
          "metadata": {},
          "execution_count": 10
        }
      ],
      "source": [
        "untagged_dataset[0]"
      ]
    },
    {
      "cell_type": "code",
      "execution_count": null,
      "metadata": {
        "colab": {
          "base_uri": "https://localhost:8080/",
          "height": 36
        },
        "id": "h8JDkXq4AlSv",
        "outputId": "70bf6fda-75d5-4dca-c301-caf51863a0ff"
      },
      "outputs": [
        {
          "output_type": "execute_result",
          "data": {
            "text/plain": [
              "'group.n.01, primary_election.n.01, evidence.n.01, irregularity.n.01'"
            ],
            "application/vnd.google.colaboratory.intrinsic+json": {
              "type": "string"
            }
          },
          "metadata": {},
          "execution_count": 14
        }
      ],
      "source": [
        "most_freq_sense(0)"
      ]
    },
    {
      "cell_type": "code",
      "source": [
        "exp = []\n",
        "act = []"
      ],
      "metadata": {
        "id": "gixmRuEJvO7f"
      },
      "execution_count": null,
      "outputs": []
    },
    {
      "cell_type": "code",
      "source": [
        "\n",
        "for sent in tagged_dataset:\n",
        "    for pair in sent:\n",
        "        chunk = pair[0]\n",
        "        sense = pair[1]\n",
        "        if len(sense.split('.'))<2:\n",
        "            continue\n",
        "        if sense.split('.')[1] == 'n':\n",
        "            exp.append(MFS[chunk])\n",
        "            act.append(sense)"
      ],
      "metadata": {
        "id": "4tsmI43Tr0n8"
      },
      "execution_count": null,
      "outputs": []
    },
    {
      "cell_type": "code",
      "source": [
        "!pip install sklearn"
      ],
      "metadata": {
        "colab": {
          "base_uri": "https://localhost:8080/"
        },
        "id": "4i_fV2f9wxUY",
        "outputId": "ba142810-e710-4bfc-8c81-711fad5b7991"
      },
      "execution_count": null,
      "outputs": [
        {
          "output_type": "stream",
          "name": "stdout",
          "text": [
            "Looking in indexes: https://pypi.org/simple, https://us-python.pkg.dev/colab-wheels/public/simple/\n",
            "Collecting sklearn\n",
            "  Downloading sklearn-0.0.post1.tar.gz (3.6 kB)\n",
            "Building wheels for collected packages: sklearn\n",
            "  Building wheel for sklearn (setup.py) ... \u001b[?25l\u001b[?25hdone\n",
            "  Created wheel for sklearn: filename=sklearn-0.0.post1-py3-none-any.whl size=2344 sha256=770a13f089961f7c4f9dd70d1dd74822413e94b55710aa8e8be90839c155a7cd\n",
            "  Stored in directory: /root/.cache/pip/wheels/42/56/cc/4a8bf86613aafd5b7f1b310477667c1fca5c51c3ae4124a003\n",
            "Successfully built sklearn\n",
            "Installing collected packages: sklearn\n",
            "Successfully installed sklearn-0.0.post1\n"
          ]
        }
      ]
    },
    {
      "cell_type": "code",
      "source": [
        "from sklearn.metrics import f1_score, recall_score, precision_score\n",
        "print(f1_score(act, exp, average='micro'))\n",
        "print(recall_score(act, exp, average='micro'))"
      ],
      "metadata": {
        "colab": {
          "base_uri": "https://localhost:8080/"
        },
        "id": "MRFT1Y6Ww1n2",
        "outputId": "4c558c7d-d08d-4f4b-96d9-b1d1c4afb495"
      },
      "execution_count": null,
      "outputs": [
        {
          "output_type": "stream",
          "name": "stdout",
          "text": [
            "0.5353112962058112\n",
            "0.5353112962058112\n"
          ]
        }
      ]
    },
    {
      "cell_type": "code",
      "source": [
        "exp_wfs = []\n",
        "act_wfs = []"
      ],
      "metadata": {
        "id": "527XKA0yxbHb"
      },
      "execution_count": null,
      "outputs": []
    },
    {
      "cell_type": "code",
      "source": [
        "nltk.download('omw-1.4')"
      ],
      "metadata": {
        "colab": {
          "base_uri": "https://localhost:8080/"
        },
        "id": "sgsvmk7AyAQj",
        "outputId": "eb86c109-0df4-4a53-a1b9-6d08e64445a7"
      },
      "execution_count": null,
      "outputs": [
        {
          "output_type": "stream",
          "name": "stderr",
          "text": [
            "[nltk_data] Downloading package omw-1.4 to /root/nltk_data...\n"
          ]
        },
        {
          "output_type": "execute_result",
          "data": {
            "text/plain": [
              "True"
            ]
          },
          "metadata": {},
          "execution_count": 31
        }
      ]
    },
    {
      "cell_type": "code",
      "source": [
        "wn.synsets('none')"
      ],
      "metadata": {
        "colab": {
          "base_uri": "https://localhost:8080/"
        },
        "id": "CKMHbB9Ux7Sl",
        "outputId": "502e91b0-4ef4-49d5-ff21-49b9745794ef"
      },
      "execution_count": null,
      "outputs": [
        {
          "output_type": "execute_result",
          "data": {
            "text/plain": [
              "[Synset('none.n.01'),\n",
              " Synset('none.n.02'),\n",
              " Synset('none.s.01'),\n",
              " Synset('none.r.01')]"
            ]
          },
          "metadata": {},
          "execution_count": 36
        }
      ]
    },
    {
      "cell_type": "code",
      "source": [
        "for sent in tagged_dataset:\n",
        "    for pair in sent:\n",
        "        chunk = pair[0]\n",
        "        sense = pair[1]\n",
        "        if len(sense.split('.'))<2:\n",
        "            continue\n",
        "        if sense.split('.')[1] == 'n':\n",
        "            wfs = wn.synsets(chunk)\n",
        "            if len(wfs) == 0:\n",
        "                continue\n",
        "            exp_wfs.append(wfs[0].name())\n",
        "            act_wfs.append(sense)"
      ],
      "metadata": {
        "id": "zesb7XiKxfME"
      },
      "execution_count": null,
      "outputs": []
    },
    {
      "cell_type": "code",
      "source": [
        "from sklearn.metrics import f1_score, recall_score, precision_score\n",
        "print(f1_score(act_wfs, exp_wfs, average='micro'))\n",
        "print(recall_score(act_wfs, exp_wfs, average='micro'))"
      ],
      "metadata": {
        "colab": {
          "base_uri": "https://localhost:8080/"
        },
        "id": "_h2wmN7kyO3J",
        "outputId": "6bd9e852-ffa6-4fab-e3c8-7e93f4042f3a"
      },
      "execution_count": null,
      "outputs": [
        {
          "output_type": "stream",
          "name": "stdout",
          "text": [
            "0.5624951134971723\n",
            "0.5624951134971723\n"
          ]
        }
      ]
    },
    {
      "cell_type": "code",
      "execution_count": null,
      "metadata": {
        "colab": {
          "background_save": true,
          "base_uri": "https://localhost:8080/"
        },
        "id": "5mDqljtAipZT",
        "outputId": "b8bff775-e3d3-47ad-b8fd-f6cbaefbce8b"
      },
      "outputs": [
        {
          "name": "stderr",
          "output_type": "stream",
          "text": [
            "[nltk_data] Downloading package omw-1.4 to /root/nltk_data...\n"
          ]
        }
      ],
      "source": [
        "from nltk.corpus import wordnet as wn\n",
        "nltk.download('omw-1.4')\n",
        "from nltk.stem import WordNetLemmatizer\n",
        "lemmatizer = WordNetLemmatizer()"
      ]
    },
    {
      "cell_type": "code",
      "execution_count": null,
      "metadata": {
        "colab": {
          "background_save": true,
          "base_uri": "https://localhost:8080/"
        },
        "id": "FI4CY2IFkBid",
        "outputId": "b45893e9-4038-4c73-f242-669b7a57b078"
      },
      "outputs": [
        {
          "data": {
            "text/plain": [
              "list"
            ]
          },
          "execution_count": 15,
          "metadata": {},
          "output_type": "execute_result"
        }
      ],
      "source": [
        "type(wn.synsets('primary'))"
      ]
    },
    {
      "cell_type": "code",
      "execution_count": null,
      "metadata": {
        "id": "ouj1-yWQC-v6"
      },
      "outputs": [],
      "source": [
        "!pip install gradio\n",
        "import gradio as gr"
      ]
    },
    {
      "cell_type": "code",
      "execution_count": null,
      "metadata": {
        "colab": {
          "base_uri": "https://localhost:8080/",
          "height": 634
        },
        "id": "uOT5K4SOC7HZ",
        "outputId": "fbd59819-5ab2-417c-fe78-b9abdd7c6b29"
      },
      "outputs": [
        {
          "output_type": "stream",
          "name": "stdout",
          "text": [
            "Most Frequent Sense\n",
            "Colab notebook detected. To show errors in colab notebook, set `debug=True` in `launch()`\n",
            "Note: opening Chrome Inspector may crash demo inside Colab notebooks.\n",
            "\n",
            "To create a public link, set `share=True` in `launch()`.\n"
          ]
        },
        {
          "output_type": "display_data",
          "data": {
            "text/plain": [
              "<IPython.core.display.Javascript object>"
            ],
            "application/javascript": [
              "(async (port, path, width, height, cache, element) => {\n",
              "                        if (!google.colab.kernel.accessAllowed && !cache) {\n",
              "                            return;\n",
              "                        }\n",
              "                        element.appendChild(document.createTextNode(''));\n",
              "                        const url = await google.colab.kernel.proxyPort(port, {cache});\n",
              "\n",
              "                        const external_link = document.createElement('div');\n",
              "                        external_link.innerHTML = `\n",
              "                            <div style=\"font-family: monospace; margin-bottom: 0.5rem\">\n",
              "                                Running on <a href=${new URL(path, url).toString()} target=\"_blank\">\n",
              "                                    https://localhost:${port}${path}\n",
              "                                </a>\n",
              "                            </div>\n",
              "                        `;\n",
              "                        element.appendChild(external_link);\n",
              "\n",
              "                        const iframe = document.createElement('iframe');\n",
              "                        iframe.src = new URL(path, url).toString();\n",
              "                        iframe.height = height;\n",
              "                        iframe.allow = \"autoplay; camera; microphone; clipboard-read; clipboard-write;\"\n",
              "                        iframe.width = width;\n",
              "                        iframe.style.border = 0;\n",
              "                        element.appendChild(iframe);\n",
              "                    })(7860, \"/\", \"100%\", 500, false, window.element)"
            ]
          },
          "metadata": {}
        },
        {
          "output_type": "execute_result",
          "data": {
            "text/plain": []
          },
          "metadata": {},
          "execution_count": 13
        }
      ],
      "source": [
        "print('Most Frequent Sense')\n",
        "\n",
        "demo = gr.Interface(fn=most_freq_sense, inputs=\"text\", outputs=\"text\")\n",
        "demo.launch() "
      ]
    },
    {
      "cell_type": "code",
      "source": [
        "def show(sent):\n",
        "    nouns = []\n",
        "    for word in sent.split():\n",
        "        try:\n",
        "            if MFS[word].split('.')[1] == 'n':\n",
        "                nouns.append(MFS[word])\n",
        "        except:\n",
        "            pass\n",
        "    return ', '.join(nouns)"
      ],
      "metadata": {
        "id": "A3bJqltyzxKo"
      },
      "execution_count": null,
      "outputs": []
    },
    {
      "cell_type": "code",
      "source": [
        "show(\"This boy was none other than him\")"
      ],
      "metadata": {
        "colab": {
          "base_uri": "https://localhost:8080/",
          "height": 36
        },
        "id": "n6iUGo5u1Lh8",
        "outputId": "0bb4aaeb-3979-4526-99fd-81d3082a2893"
      },
      "execution_count": null,
      "outputs": [
        {
          "output_type": "execute_result",
          "data": {
            "text/plain": [
              "'boy.n.01'"
            ],
            "application/vnd.google.colaboratory.intrinsic+json": {
              "type": "string"
            }
          },
          "metadata": {},
          "execution_count": 48
        }
      ]
    },
    {
      "cell_type": "code",
      "source": [
        "print('Most Frequent Sense')\n",
        "\n",
        "demo = gr.Interface(fn=show, inputs=\"text\", outputs=\"text\")\n",
        "demo.launch() "
      ],
      "metadata": {
        "colab": {
          "base_uri": "https://localhost:8080/",
          "height": 634
        },
        "id": "mvv9f_SX1UbM",
        "outputId": "ed75d55e-1b97-4e00-ab1c-05be7710bf0a"
      },
      "execution_count": null,
      "outputs": [
        {
          "output_type": "stream",
          "name": "stdout",
          "text": [
            "Most Frequent Sense\n",
            "Colab notebook detected. To show errors in colab notebook, set `debug=True` in `launch()`\n",
            "Note: opening Chrome Inspector may crash demo inside Colab notebooks.\n",
            "\n",
            "To create a public link, set `share=True` in `launch()`.\n"
          ]
        },
        {
          "output_type": "display_data",
          "data": {
            "text/plain": [
              "<IPython.core.display.Javascript object>"
            ],
            "application/javascript": [
              "(async (port, path, width, height, cache, element) => {\n",
              "                        if (!google.colab.kernel.accessAllowed && !cache) {\n",
              "                            return;\n",
              "                        }\n",
              "                        element.appendChild(document.createTextNode(''));\n",
              "                        const url = await google.colab.kernel.proxyPort(port, {cache});\n",
              "\n",
              "                        const external_link = document.createElement('div');\n",
              "                        external_link.innerHTML = `\n",
              "                            <div style=\"font-family: monospace; margin-bottom: 0.5rem\">\n",
              "                                Running on <a href=${new URL(path, url).toString()} target=\"_blank\">\n",
              "                                    https://localhost:${port}${path}\n",
              "                                </a>\n",
              "                            </div>\n",
              "                        `;\n",
              "                        element.appendChild(external_link);\n",
              "\n",
              "                        const iframe = document.createElement('iframe');\n",
              "                        iframe.src = new URL(path, url).toString();\n",
              "                        iframe.height = height;\n",
              "                        iframe.allow = \"autoplay; camera; microphone; clipboard-read; clipboard-write;\"\n",
              "                        iframe.width = width;\n",
              "                        iframe.style.border = 0;\n",
              "                        element.appendChild(iframe);\n",
              "                    })(7861, \"/\", \"100%\", 500, false, window.element)"
            ]
          },
          "metadata": {}
        },
        {
          "output_type": "execute_result",
          "data": {
            "text/plain": []
          },
          "metadata": {},
          "execution_count": 49
        }
      ]
    }
  ],
  "metadata": {
    "colab": {
      "provenance": []
    },
    "kernelspec": {
      "display_name": "Python 3",
      "name": "python3"
    },
    "language_info": {
      "name": "python"
    }
  },
  "nbformat": 4,
  "nbformat_minor": 0
}