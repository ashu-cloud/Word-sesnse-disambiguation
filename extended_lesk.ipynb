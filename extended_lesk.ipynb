{
  "cells": [
    {
      "cell_type": "code",
      "execution_count": null,
      "metadata": {
        "colab": {
          "base_uri": "https://localhost:8080/"
        },
        "id": "gN8v3ZXfYPUi",
        "outputId": "a0a305d7-01b6-4ddf-962f-e6320b2500d0"
      },
      "outputs": [
        {
          "output_type": "stream",
          "name": "stderr",
          "text": [
            "[nltk_data] Downloading package semcor to /root/nltk_data...\n",
            "[nltk_data] Downloading package wordnet to /root/nltk_data...\n"
          ]
        },
        {
          "output_type": "execute_result",
          "data": {
            "text/plain": [
              "True"
            ]
          },
          "metadata": {},
          "execution_count": 1
        }
      ],
      "source": [
        "from nltk.corpus import semcor\n",
        "import nltk\n",
        "import numpy\n",
        "\n",
        "nltk.download(\"semcor\")\n",
        "nltk.download('wordnet')"
      ]
    },
    {
      "cell_type": "code",
      "execution_count": null,
      "metadata": {
        "colab": {
          "base_uri": "https://localhost:8080/"
        },
        "id": "KPOg4ZJ7Yr33",
        "outputId": "a4dfbde2-3aae-40d2-979f-3fa9ab27a4e2"
      },
      "outputs": [
        {
          "output_type": "stream",
          "name": "stdout",
          "text": [
            "Help on method tagged_sents in module nltk.corpus.reader.semcor:\n",
            "\n",
            "tagged_sents(fileids=None, tag='pos') method of nltk.corpus.reader.semcor.SemcorCorpusReader instance\n",
            "    :return: the given file(s) as a list of sentences. Each sentence\n",
            "        is represented as a list of tagged chunks (in tree form).\n",
            "    :rtype: list(list(Tree))\n",
            "    \n",
            "    :param tag: `'pos'` (part of speech), `'sem'` (semantic), or `'both'`\n",
            "        to indicate the kind of tags to include.  Semantic tags consist of\n",
            "        WordNet lemma IDs, plus an `'NE'` node if the chunk is a named entity\n",
            "        without a specific entry in WordNet.  (Named entities of type 'other'\n",
            "        have no lemma.  Other chunks not in WordNet have no semantic tag.\n",
            "        Punctuation tokens have `None` for their part of speech tag.)\n",
            "\n"
          ]
        }
      ],
      "source": [
        "help(semcor.tagged_sents)"
      ]
    },
    {
      "cell_type": "code",
      "execution_count": null,
      "metadata": {
        "id": "p8F_ZNTkY54K"
      },
      "outputs": [],
      "source": [
        "input_seq=\"Jacob wants to immerse himself in some books.\""
      ]
    },
    {
      "cell_type": "code",
      "execution_count": null,
      "metadata": {
        "id": "CbpmcMeF_TQb"
      },
      "outputs": [],
      "source": [
        "from nltk.corpus import semcor\n",
        "tagged_sents = [[str(c) for c in s] for s in semcor.tagged_sents(tag='both')]\n",
        "tagged_sents_actual = semcor.tagged_sents(tag='both')"
      ]
    },
    {
      "cell_type": "code",
      "execution_count": null,
      "metadata": {
        "colab": {
          "base_uri": "https://localhost:8080/",
          "height": 73
        },
        "id": "UZ1dXPtK_Vi4",
        "outputId": "f38d52f9-f6bf-4fbb-eb33-1b2b5e03bbb8"
      },
      "outputs": [
        {
          "output_type": "stream",
          "name": "stdout",
          "text": [
            "['(DT The)', '(group.n.01 (NE (NNP Fulton County Grand Jury)))', '(say.v.01 (VB said))', '(friday.n.01 (NN Friday))', '(DT an)', '(investigation.n.01 (NN investigation))', '(IN of)', '(atlanta.n.01 (NN Atlanta))', \"(POS 's)\", '(recent.s.02 (JJ recent))', '(primary_election.n.01 (NN primary election))', '(produce.v.04 (VB produced))', '(None ``)', '(DT no)', '(evidence.n.01 (NN evidence))', \"(None '')\", '(IN that)', '(DT any)', '(irregularity.n.01 (NN irregularities))', '(take_place.v.01 (VB took place))', '(None .)']\n"
          ]
        },
        {
          "output_type": "execute_result",
          "data": {
            "text/plain": [
              "'(september.n.01 (NN September))'"
            ],
            "application/vnd.google.colaboratory.intrinsic+json": {
              "type": "string"
            }
          },
          "metadata": {},
          "execution_count": 5
        }
      ],
      "source": [
        "print(tagged_sents[0])\n",
        "tagged_sents[2][1]"
      ]
    },
    {
      "cell_type": "code",
      "execution_count": null,
      "metadata": {
        "id": "UPGVAUfWMvRF",
        "colab": {
          "base_uri": "https://localhost:8080/"
        },
        "outputId": "29b46444-422a-4e80-9eb2-302684eb6ad6"
      },
      "outputs": [
        {
          "output_type": "stream",
          "name": "stdout",
          "text": [
            "{\n",
            "    \"corpora\": {\n",
            "        \"semeval-2016-2017-task3-subtaskBC\": {\n",
            "            \"num_records\": -1,\n",
            "            \"record_format\": \"dict\",\n",
            "            \"file_size\": 6344358,\n",
            "            \"reader_code\": \"https://github.com/RaRe-Technologies/gensim-data/releases/download/semeval-2016-2017-task3-subtaskB-eng/__init__.py\",\n",
            "            \"license\": \"All files released for the task are free for general research use\",\n",
            "            \"fields\": {\n",
            "                \"2016-train\": [\n",
            "                    \"...\"\n",
            "                ],\n",
            "                \"2016-dev\": [\n",
            "                    \"...\"\n",
            "                ],\n",
            "                \"2017-test\": [\n",
            "                    \"...\"\n",
            "                ],\n",
            "                \"2016-test\": [\n",
            "                    \"...\"\n",
            "                ]\n",
            "            },\n",
            "            \"description\": \"SemEval 2016 / 2017 Task 3 Subtask B and C datasets contain train+development (317 original questions, 3,169 related questions, and 31,690 comments), and test datasets in English. The description of the tasks and the collected data is given in sections 3 and 4.1 of the task paper http://alt.qcri.org/semeval2016/task3/data/uploads/semeval2016-task3-report.pdf linked in section \\u201cPapers\\u201d of https://github.com/RaRe-Technologies/gensim-data/issues/18.\",\n",
            "            \"checksum\": \"701ea67acd82e75f95e1d8e62fb0ad29\",\n",
            "            \"file_name\": \"semeval-2016-2017-task3-subtaskBC.gz\",\n",
            "            \"read_more\": [\n",
            "                \"http://alt.qcri.org/semeval2017/task3/\",\n",
            "                \"http://alt.qcri.org/semeval2017/task3/data/uploads/semeval2017-task3.pdf\",\n",
            "                \"https://github.com/RaRe-Technologies/gensim-data/issues/18\",\n",
            "                \"https://github.com/Witiko/semeval-2016_2017-task3-subtaskB-english\"\n",
            "            ],\n",
            "            \"parts\": 1\n",
            "        },\n",
            "        \"semeval-2016-2017-task3-subtaskA-unannotated\": {\n",
            "            \"num_records\": 189941,\n",
            "            \"record_format\": \"dict\",\n",
            "            \"file_size\": 234373151,\n",
            "            \"reader_code\": \"https://github.com/RaRe-Technologies/gensim-data/releases/download/semeval-2016-2017-task3-subtaskA-unannotated-eng/__init__.py\",\n",
            "            \"license\": \"These datasets are free for general research use.\",\n",
            "            \"fields\": {\n",
            "                \"THREAD_SEQUENCE\": \"\",\n",
            "                \"RelQuestion\": {\n",
            "                    \"RELQ_CATEGORY\": \"question category, according to the Qatar Living taxonomy\",\n",
            "                    \"RELQ_DATE\": \"date of posting\",\n",
            "                    \"RELQ_ID\": \"question indentifier\",\n",
            "                    \"RELQ_USERID\": \"identifier of the user asking the question\",\n",
            "                    \"RELQ_USERNAME\": \"name of the user asking the question\",\n",
            "                    \"RelQBody\": \"body of question\",\n",
            "                    \"RelQSubject\": \"subject of question\"\n",
            "                },\n",
            "                \"RelComments\": [\n",
            "                    {\n",
            "                        \"RelCText\": \"text of answer\",\n",
            "                        \"RELC_USERID\": \"identifier of the user posting the comment\",\n",
            "                        \"RELC_ID\": \"comment identifier\",\n",
            "                        \"RELC_USERNAME\": \"name of the user posting the comment\",\n",
            "                        \"RELC_DATE\": \"date of posting\"\n",
            "                    }\n",
            "                ]\n",
            "            },\n",
            "            \"description\": \"SemEval 2016 / 2017 Task 3 Subtask A unannotated dataset contains 189,941 questions and 1,894,456 comments in English collected from the Community Question Answering (CQA) web forum of Qatar Living. These can be used as a corpus for language modelling.\",\n",
            "            \"checksum\": \"2de0e2f2c4f91c66ae4fcf58d50ba816\",\n",
            "            \"file_name\": \"semeval-2016-2017-task3-subtaskA-unannotated.gz\",\n",
            "            \"read_more\": [\n",
            "                \"http://alt.qcri.org/semeval2016/task3/\",\n",
            "                \"http://alt.qcri.org/semeval2016/task3/data/uploads/semeval2016-task3-report.pdf\",\n",
            "                \"https://github.com/RaRe-Technologies/gensim-data/issues/18\",\n",
            "                \"https://github.com/Witiko/semeval-2016_2017-task3-subtaskA-unannotated-english\"\n",
            "            ],\n",
            "            \"parts\": 1\n",
            "        },\n",
            "        \"patent-2017\": {\n",
            "            \"num_records\": 353197,\n",
            "            \"record_format\": \"dict\",\n",
            "            \"file_size\": 3087262469,\n",
            "            \"reader_code\": \"https://github.com/RaRe-Technologies/gensim-data/releases/download/patent-2017/__init__.py\",\n",
            "            \"license\": \"not found\",\n",
            "            \"description\": \"Patent Grant Full Text. Contains the full text including tables, sequence data and 'in-line' mathematical expressions of each patent grant issued in 2017.\",\n",
            "            \"checksum-0\": \"818501f0b9af62d3b88294d86d509f8f\",\n",
            "            \"checksum-1\": \"66c05635c1d3c7a19b4a335829d09ffa\",\n",
            "            \"file_name\": \"patent-2017.gz\",\n",
            "            \"read_more\": [\n",
            "                \"http://patents.reedtech.com/pgrbft.php\"\n",
            "            ],\n",
            "            \"parts\": 2\n",
            "        },\n",
            "        \"quora-duplicate-questions\": {\n",
            "            \"num_records\": 404290,\n",
            "            \"record_format\": \"dict\",\n",
            "            \"file_size\": 21684784,\n",
            "            \"reader_code\": \"https://github.com/RaRe-Technologies/gensim-data/releases/download/quora-duplicate-questions/__init__.py\",\n",
            "            \"license\": \"probably https://www.quora.com/about/tos\",\n",
            "            \"fields\": {\n",
            "                \"question1\": \"the full text of each question\",\n",
            "                \"question2\": \"the full text of each question\",\n",
            "                \"qid1\": \"unique ids of each question\",\n",
            "                \"qid2\": \"unique ids of each question\",\n",
            "                \"id\": \"the id of a training set question pair\",\n",
            "                \"is_duplicate\": \"the target variable, set to 1 if question1 and question2 have essentially the same meaning, and 0 otherwise\"\n",
            "            },\n",
            "            \"description\": \"Over 400,000 lines of potential question duplicate pairs. Each line contains IDs for each question in the pair, the full text for each question, and a binary value that indicates whether the line contains a duplicate pair or not.\",\n",
            "            \"checksum\": \"d7cfa7fbc6e2ec71ab74c495586c6365\",\n",
            "            \"file_name\": \"quora-duplicate-questions.gz\",\n",
            "            \"read_more\": [\n",
            "                \"https://data.quora.com/First-Quora-Dataset-Release-Question-Pairs\"\n",
            "            ],\n",
            "            \"parts\": 1\n",
            "        },\n",
            "        \"wiki-english-20171001\": {\n",
            "            \"num_records\": 4924894,\n",
            "            \"record_format\": \"dict\",\n",
            "            \"file_size\": 6516051717,\n",
            "            \"reader_code\": \"https://github.com/RaRe-Technologies/gensim-data/releases/download/wiki-english-20171001/__init__.py\",\n",
            "            \"license\": \"https://dumps.wikimedia.org/legal.html\",\n",
            "            \"fields\": {\n",
            "                \"section_texts\": \"list of body of sections\",\n",
            "                \"section_titles\": \"list of titles of sections\",\n",
            "                \"title\": \"Title of wiki article\"\n",
            "            },\n",
            "            \"description\": \"Extracted Wikipedia dump from October 2017. Produced by `python -m gensim.scripts.segment_wiki -f enwiki-20171001-pages-articles.xml.bz2 -o wiki-en.gz`\",\n",
            "            \"checksum-0\": \"a7d7d7fd41ea7e2d7fa32ec1bb640d71\",\n",
            "            \"checksum-1\": \"b2683e3356ffbca3b6c2dca6e9801f9f\",\n",
            "            \"checksum-2\": \"c5cde2a9ae77b3c4ebce804f6df542c2\",\n",
            "            \"checksum-3\": \"00b71144ed5e3aeeb885de84f7452b81\",\n",
            "            \"file_name\": \"wiki-english-20171001.gz\",\n",
            "            \"read_more\": [\n",
            "                \"https://dumps.wikimedia.org/enwiki/20171001/\"\n",
            "            ],\n",
            "            \"parts\": 4\n",
            "        },\n",
            "        \"text8\": {\n",
            "            \"num_records\": 1701,\n",
            "            \"record_format\": \"list of str (tokens)\",\n",
            "            \"file_size\": 33182058,\n",
            "            \"reader_code\": \"https://github.com/RaRe-Technologies/gensim-data/releases/download/text8/__init__.py\",\n",
            "            \"license\": \"not found\",\n",
            "            \"description\": \"First 100,000,000 bytes of plain text from Wikipedia. Used for testing purposes; see wiki-english-* for proper full Wikipedia datasets.\",\n",
            "            \"checksum\": \"68799af40b6bda07dfa47a32612e5364\",\n",
            "            \"file_name\": \"text8.gz\",\n",
            "            \"read_more\": [\n",
            "                \"http://mattmahoney.net/dc/textdata.html\"\n",
            "            ],\n",
            "            \"parts\": 1\n",
            "        },\n",
            "        \"fake-news\": {\n",
            "            \"num_records\": 12999,\n",
            "            \"record_format\": \"dict\",\n",
            "            \"file_size\": 20102776,\n",
            "            \"reader_code\": \"https://github.com/RaRe-Technologies/gensim-data/releases/download/fake-news/__init__.py\",\n",
            "            \"license\": \"https://creativecommons.org/publicdomain/zero/1.0/\",\n",
            "            \"fields\": {\n",
            "                \"crawled\": \"date the story was archived\",\n",
            "                \"ord_in_thread\": \"\",\n",
            "                \"published\": \"date published\",\n",
            "                \"participants_count\": \"number of participants\",\n",
            "                \"shares\": \"number of Facebook shares\",\n",
            "                \"replies_count\": \"number of replies\",\n",
            "                \"main_img_url\": \"image from story\",\n",
            "                \"spam_score\": \"data from webhose.io\",\n",
            "                \"uuid\": \"unique identifier\",\n",
            "                \"language\": \"data from webhose.io\",\n",
            "                \"title\": \"title of story\",\n",
            "                \"country\": \"data from webhose.io\",\n",
            "                \"domain_rank\": \"data from webhose.io\",\n",
            "                \"author\": \"author of story\",\n",
            "                \"comments\": \"number of Facebook comments\",\n",
            "                \"site_url\": \"site URL from BS detector\",\n",
            "                \"text\": \"text of story\",\n",
            "                \"thread_title\": \"\",\n",
            "                \"type\": \"type of website (label from BS detector)\",\n",
            "                \"likes\": \"number of Facebook likes\"\n",
            "            },\n",
            "            \"description\": \"News dataset, contains text and metadata from 244 websites and represents 12,999 posts in total from a specific window of 30 days. The data was pulled using the webhose.io API, and because it's coming from their crawler, not all websites identified by their BS Detector are present in this dataset. Data sources that were missing a label were simply assigned a label of 'bs'. There are (ostensibly) no genuine, reliable, or trustworthy news sources represented in this dataset (so far), so don't trust anything you read.\",\n",
            "            \"checksum\": \"5e64e942df13219465927f92dcefd5fe\",\n",
            "            \"file_name\": \"fake-news.gz\",\n",
            "            \"read_more\": [\n",
            "                \"https://www.kaggle.com/mrisdal/fake-news\"\n",
            "            ],\n",
            "            \"parts\": 1\n",
            "        },\n",
            "        \"20-newsgroups\": {\n",
            "            \"num_records\": 18846,\n",
            "            \"record_format\": \"dict\",\n",
            "            \"file_size\": 14483581,\n",
            "            \"reader_code\": \"https://github.com/RaRe-Technologies/gensim-data/releases/download/20-newsgroups/__init__.py\",\n",
            "            \"license\": \"not found\",\n",
            "            \"fields\": {\n",
            "                \"topic\": \"name of topic (20 variant of possible values)\",\n",
            "                \"set\": \"marker of original split (possible values 'train' and 'test')\",\n",
            "                \"data\": \"\",\n",
            "                \"id\": \"original id inferred from folder name\"\n",
            "            },\n",
            "            \"description\": \"The notorious collection of approximately 20,000 newsgroup posts, partitioned (nearly) evenly across 20 different newsgroups.\",\n",
            "            \"checksum\": \"c92fd4f6640a86d5ba89eaad818a9891\",\n",
            "            \"file_name\": \"20-newsgroups.gz\",\n",
            "            \"read_more\": [\n",
            "                \"http://qwone.com/~jason/20Newsgroups/\"\n",
            "            ],\n",
            "            \"parts\": 1\n",
            "        },\n",
            "        \"__testing_matrix-synopsis\": {\n",
            "            \"description\": \"[THIS IS ONLY FOR TESTING] Synopsis of the movie matrix.\",\n",
            "            \"checksum\": \"1767ac93a089b43899d54944b07d9dc5\",\n",
            "            \"file_name\": \"__testing_matrix-synopsis.gz\",\n",
            "            \"read_more\": [\n",
            "                \"http://www.imdb.com/title/tt0133093/plotsummary?ref_=ttpl_pl_syn#synopsis\"\n",
            "            ],\n",
            "            \"parts\": 1\n",
            "        },\n",
            "        \"__testing_multipart-matrix-synopsis\": {\n",
            "            \"description\": \"[THIS IS ONLY FOR TESTING] Synopsis of the movie matrix.\",\n",
            "            \"checksum-0\": \"c8b0c7d8cf562b1b632c262a173ac338\",\n",
            "            \"checksum-1\": \"5ff7fc6818e9a5d9bc1cf12c35ed8b96\",\n",
            "            \"checksum-2\": \"966db9d274d125beaac7987202076cba\",\n",
            "            \"file_name\": \"__testing_multipart-matrix-synopsis.gz\",\n",
            "            \"read_more\": [\n",
            "                \"http://www.imdb.com/title/tt0133093/plotsummary?ref_=ttpl_pl_syn#synopsis\"\n",
            "            ],\n",
            "            \"parts\": 3\n",
            "        }\n",
            "    },\n",
            "    \"models\": {\n",
            "        \"fasttext-wiki-news-subwords-300\": {\n",
            "            \"num_records\": 999999,\n",
            "            \"file_size\": 1005007116,\n",
            "            \"base_dataset\": \"Wikipedia 2017, UMBC webbase corpus and statmt.org news dataset (16B tokens)\",\n",
            "            \"reader_code\": \"https://github.com/RaRe-Technologies/gensim-data/releases/download/fasttext-wiki-news-subwords-300/__init__.py\",\n",
            "            \"license\": \"https://creativecommons.org/licenses/by-sa/3.0/\",\n",
            "            \"parameters\": {\n",
            "                \"dimension\": 300\n",
            "            },\n",
            "            \"description\": \"1 million word vectors trained on Wikipedia 2017, UMBC webbase corpus and statmt.org news dataset (16B tokens).\",\n",
            "            \"read_more\": [\n",
            "                \"https://fasttext.cc/docs/en/english-vectors.html\",\n",
            "                \"https://arxiv.org/abs/1712.09405\",\n",
            "                \"https://arxiv.org/abs/1607.01759\"\n",
            "            ],\n",
            "            \"checksum\": \"de2bb3a20c46ce65c9c131e1ad9a77af\",\n",
            "            \"file_name\": \"fasttext-wiki-news-subwords-300.gz\",\n",
            "            \"parts\": 1\n",
            "        },\n",
            "        \"conceptnet-numberbatch-17-06-300\": {\n",
            "            \"num_records\": 1917247,\n",
            "            \"file_size\": 1225497562,\n",
            "            \"base_dataset\": \"ConceptNet, word2vec, GloVe, and OpenSubtitles 2016\",\n",
            "            \"reader_code\": \"https://github.com/RaRe-Technologies/gensim-data/releases/download/conceptnet-numberbatch-17-06-300/__init__.py\",\n",
            "            \"license\": \"https://github.com/commonsense/conceptnet-numberbatch/blob/master/LICENSE.txt\",\n",
            "            \"parameters\": {\n",
            "                \"dimension\": 300\n",
            "            },\n",
            "            \"description\": \"ConceptNet Numberbatch consists of state-of-the-art semantic vectors (also known as word embeddings) that can be used directly as a representation of word meanings or as a starting point for further machine learning. ConceptNet Numberbatch is part of the ConceptNet open data project. ConceptNet provides lots of ways to compute with word meanings, one of which is word embeddings. ConceptNet Numberbatch is a snapshot of just the word embeddings. It is built using an ensemble that combines data from ConceptNet, word2vec, GloVe, and OpenSubtitles 2016, using a variation on retrofitting.\",\n",
            "            \"read_more\": [\n",
            "                \"http://aaai.org/ocs/index.php/AAAI/AAAI17/paper/view/14972\",\n",
            "                \"https://github.com/commonsense/conceptnet-numberbatch\",\n",
            "                \"http://conceptnet.io/\"\n",
            "            ],\n",
            "            \"checksum\": \"fd642d457adcd0ea94da0cd21b150847\",\n",
            "            \"file_name\": \"conceptnet-numberbatch-17-06-300.gz\",\n",
            "            \"parts\": 1\n",
            "        },\n",
            "        \"word2vec-ruscorpora-300\": {\n",
            "            \"num_records\": 184973,\n",
            "            \"file_size\": 208427381,\n",
            "            \"base_dataset\": \"Russian National Corpus (about 250M words)\",\n",
            "            \"reader_code\": \"https://github.com/RaRe-Technologies/gensim-data/releases/download/word2vec-ruscorpora-300/__init__.py\",\n",
            "            \"license\": \"https://creativecommons.org/licenses/by/4.0/deed.en\",\n",
            "            \"parameters\": {\n",
            "                \"dimension\": 300,\n",
            "                \"window_size\": 10\n",
            "            },\n",
            "            \"description\": \"Word2vec Continuous Skipgram vectors trained on full Russian National Corpus (about 250M words). The model contains 185K words.\",\n",
            "            \"preprocessing\": \"The corpus was lemmatized and tagged with Universal PoS\",\n",
            "            \"read_more\": [\n",
            "                \"https://www.academia.edu/24306935/WebVectors_a_Toolkit_for_Building_Web_Interfaces_for_Vector_Semantic_Models\",\n",
            "                \"http://rusvectores.org/en/\",\n",
            "                \"https://github.com/RaRe-Technologies/gensim-data/issues/3\"\n",
            "            ],\n",
            "            \"checksum\": \"9bdebdc8ae6d17d20839dd9b5af10bc4\",\n",
            "            \"file_name\": \"word2vec-ruscorpora-300.gz\",\n",
            "            \"parts\": 1\n",
            "        },\n",
            "        \"word2vec-google-news-300\": {\n",
            "            \"num_records\": 3000000,\n",
            "            \"file_size\": 1743563840,\n",
            "            \"base_dataset\": \"Google News (about 100 billion words)\",\n",
            "            \"reader_code\": \"https://github.com/RaRe-Technologies/gensim-data/releases/download/word2vec-google-news-300/__init__.py\",\n",
            "            \"license\": \"not found\",\n",
            "            \"parameters\": {\n",
            "                \"dimension\": 300\n",
            "            },\n",
            "            \"description\": \"Pre-trained vectors trained on a part of the Google News dataset (about 100 billion words). The model contains 300-dimensional vectors for 3 million words and phrases. The phrases were obtained using a simple data-driven approach described in 'Distributed Representations of Words and Phrases and their Compositionality' (https://code.google.com/archive/p/word2vec/).\",\n",
            "            \"read_more\": [\n",
            "                \"https://code.google.com/archive/p/word2vec/\",\n",
            "                \"https://arxiv.org/abs/1301.3781\",\n",
            "                \"https://arxiv.org/abs/1310.4546\",\n",
            "                \"https://www.microsoft.com/en-us/research/publication/linguistic-regularities-in-continuous-space-word-representations/?from=http%3A%2F%2Fresearch.microsoft.com%2Fpubs%2F189726%2Frvecs.pdf\"\n",
            "            ],\n",
            "            \"checksum\": \"a5e5354d40acb95f9ec66d5977d140ef\",\n",
            "            \"file_name\": \"word2vec-google-news-300.gz\",\n",
            "            \"parts\": 1\n",
            "        },\n",
            "        \"glove-wiki-gigaword-50\": {\n",
            "            \"num_records\": 400000,\n",
            "            \"file_size\": 69182535,\n",
            "            \"base_dataset\": \"Wikipedia 2014 + Gigaword 5 (6B tokens, uncased)\",\n",
            "            \"reader_code\": \"https://github.com/RaRe-Technologies/gensim-data/releases/download/glove-wiki-gigaword-50/__init__.py\",\n",
            "            \"license\": \"http://opendatacommons.org/licenses/pddl/\",\n",
            "            \"parameters\": {\n",
            "                \"dimension\": 50\n",
            "            },\n",
            "            \"description\": \"Pre-trained vectors based on Wikipedia 2014 + Gigaword, 5.6B tokens, 400K vocab, uncased (https://nlp.stanford.edu/projects/glove/).\",\n",
            "            \"preprocessing\": \"Converted to w2v format with `python -m gensim.scripts.glove2word2vec -i <fname> -o glove-wiki-gigaword-50.txt`.\",\n",
            "            \"read_more\": [\n",
            "                \"https://nlp.stanford.edu/projects/glove/\",\n",
            "                \"https://nlp.stanford.edu/pubs/glove.pdf\"\n",
            "            ],\n",
            "            \"checksum\": \"c289bc5d7f2f02c6dc9f2f9b67641813\",\n",
            "            \"file_name\": \"glove-wiki-gigaword-50.gz\",\n",
            "            \"parts\": 1\n",
            "        },\n",
            "        \"glove-wiki-gigaword-100\": {\n",
            "            \"num_records\": 400000,\n",
            "            \"file_size\": 134300434,\n",
            "            \"base_dataset\": \"Wikipedia 2014 + Gigaword 5 (6B tokens, uncased)\",\n",
            "            \"reader_code\": \"https://github.com/RaRe-Technologies/gensim-data/releases/download/glove-wiki-gigaword-100/__init__.py\",\n",
            "            \"license\": \"http://opendatacommons.org/licenses/pddl/\",\n",
            "            \"parameters\": {\n",
            "                \"dimension\": 100\n",
            "            },\n",
            "            \"description\": \"Pre-trained vectors based on Wikipedia 2014 + Gigaword 5.6B tokens, 400K vocab, uncased (https://nlp.stanford.edu/projects/glove/).\",\n",
            "            \"preprocessing\": \"Converted to w2v format with `python -m gensim.scripts.glove2word2vec -i <fname> -o glove-wiki-gigaword-100.txt`.\",\n",
            "            \"read_more\": [\n",
            "                \"https://nlp.stanford.edu/projects/glove/\",\n",
            "                \"https://nlp.stanford.edu/pubs/glove.pdf\"\n",
            "            ],\n",
            "            \"checksum\": \"40ec481866001177b8cd4cb0df92924f\",\n",
            "            \"file_name\": \"glove-wiki-gigaword-100.gz\",\n",
            "            \"parts\": 1\n",
            "        },\n",
            "        \"glove-wiki-gigaword-200\": {\n",
            "            \"num_records\": 400000,\n",
            "            \"file_size\": 264336934,\n",
            "            \"base_dataset\": \"Wikipedia 2014 + Gigaword 5 (6B tokens, uncased)\",\n",
            "            \"reader_code\": \"https://github.com/RaRe-Technologies/gensim-data/releases/download/glove-wiki-gigaword-200/__init__.py\",\n",
            "            \"license\": \"http://opendatacommons.org/licenses/pddl/\",\n",
            "            \"parameters\": {\n",
            "                \"dimension\": 200\n",
            "            },\n",
            "            \"description\": \"Pre-trained vectors based on Wikipedia 2014 + Gigaword, 5.6B tokens, 400K vocab, uncased (https://nlp.stanford.edu/projects/glove/).\",\n",
            "            \"preprocessing\": \"Converted to w2v format with `python -m gensim.scripts.glove2word2vec -i <fname> -o glove-wiki-gigaword-200.txt`.\",\n",
            "            \"read_more\": [\n",
            "                \"https://nlp.stanford.edu/projects/glove/\",\n",
            "                \"https://nlp.stanford.edu/pubs/glove.pdf\"\n",
            "            ],\n",
            "            \"checksum\": \"59652db361b7a87ee73834a6c391dfc1\",\n",
            "            \"file_name\": \"glove-wiki-gigaword-200.gz\",\n",
            "            \"parts\": 1\n",
            "        },\n",
            "        \"glove-wiki-gigaword-300\": {\n",
            "            \"num_records\": 400000,\n",
            "            \"file_size\": 394362229,\n",
            "            \"base_dataset\": \"Wikipedia 2014 + Gigaword 5 (6B tokens, uncased)\",\n",
            "            \"reader_code\": \"https://github.com/RaRe-Technologies/gensim-data/releases/download/glove-wiki-gigaword-300/__init__.py\",\n",
            "            \"license\": \"http://opendatacommons.org/licenses/pddl/\",\n",
            "            \"parameters\": {\n",
            "                \"dimension\": 300\n",
            "            },\n",
            "            \"description\": \"Pre-trained vectors based on Wikipedia 2014 + Gigaword, 5.6B tokens, 400K vocab, uncased (https://nlp.stanford.edu/projects/glove/).\",\n",
            "            \"preprocessing\": \"Converted to w2v format with `python -m gensim.scripts.glove2word2vec -i <fname> -o glove-wiki-gigaword-300.txt`.\",\n",
            "            \"read_more\": [\n",
            "                \"https://nlp.stanford.edu/projects/glove/\",\n",
            "                \"https://nlp.stanford.edu/pubs/glove.pdf\"\n",
            "            ],\n",
            "            \"checksum\": \"29e9329ac2241937d55b852e8284e89b\",\n",
            "            \"file_name\": \"glove-wiki-gigaword-300.gz\",\n",
            "            \"parts\": 1\n",
            "        },\n",
            "        \"glove-twitter-25\": {\n",
            "            \"num_records\": 1193514,\n",
            "            \"file_size\": 109885004,\n",
            "            \"base_dataset\": \"Twitter (2B tweets, 27B tokens, 1.2M vocab, uncased)\",\n",
            "            \"reader_code\": \"https://github.com/RaRe-Technologies/gensim-data/releases/download/glove-twitter-25/__init__.py\",\n",
            "            \"license\": \"http://opendatacommons.org/licenses/pddl/\",\n",
            "            \"parameters\": {\n",
            "                \"dimension\": 25\n",
            "            },\n",
            "            \"description\": \"Pre-trained vectors based on 2B tweets, 27B tokens, 1.2M vocab, uncased (https://nlp.stanford.edu/projects/glove/).\",\n",
            "            \"preprocessing\": \"Converted to w2v format with `python -m gensim.scripts.glove2word2vec -i <fname> -o glove-twitter-25.txt`.\",\n",
            "            \"read_more\": [\n",
            "                \"https://nlp.stanford.edu/projects/glove/\",\n",
            "                \"https://nlp.stanford.edu/pubs/glove.pdf\"\n",
            "            ],\n",
            "            \"checksum\": \"50db0211d7e7a2dcd362c6b774762793\",\n",
            "            \"file_name\": \"glove-twitter-25.gz\",\n",
            "            \"parts\": 1\n",
            "        },\n",
            "        \"glove-twitter-50\": {\n",
            "            \"num_records\": 1193514,\n",
            "            \"file_size\": 209216938,\n",
            "            \"base_dataset\": \"Twitter (2B tweets, 27B tokens, 1.2M vocab, uncased)\",\n",
            "            \"reader_code\": \"https://github.com/RaRe-Technologies/gensim-data/releases/download/glove-twitter-50/__init__.py\",\n",
            "            \"license\": \"http://opendatacommons.org/licenses/pddl/\",\n",
            "            \"parameters\": {\n",
            "                \"dimension\": 50\n",
            "            },\n",
            "            \"description\": \"Pre-trained vectors based on 2B tweets, 27B tokens, 1.2M vocab, uncased (https://nlp.stanford.edu/projects/glove/)\",\n",
            "            \"preprocessing\": \"Converted to w2v format with `python -m gensim.scripts.glove2word2vec -i <fname> -o glove-twitter-50.txt`.\",\n",
            "            \"read_more\": [\n",
            "                \"https://nlp.stanford.edu/projects/glove/\",\n",
            "                \"https://nlp.stanford.edu/pubs/glove.pdf\"\n",
            "            ],\n",
            "            \"checksum\": \"c168f18641f8c8a00fe30984c4799b2b\",\n",
            "            \"file_name\": \"glove-twitter-50.gz\",\n",
            "            \"parts\": 1\n",
            "        },\n",
            "        \"glove-twitter-100\": {\n",
            "            \"num_records\": 1193514,\n",
            "            \"file_size\": 405932991,\n",
            "            \"base_dataset\": \"Twitter (2B tweets, 27B tokens, 1.2M vocab, uncased)\",\n",
            "            \"reader_code\": \"https://github.com/RaRe-Technologies/gensim-data/releases/download/glove-twitter-100/__init__.py\",\n",
            "            \"license\": \"http://opendatacommons.org/licenses/pddl/\",\n",
            "            \"parameters\": {\n",
            "                \"dimension\": 100\n",
            "            },\n",
            "            \"description\": \"Pre-trained vectors based on  2B tweets, 27B tokens, 1.2M vocab, uncased (https://nlp.stanford.edu/projects/glove/)\",\n",
            "            \"preprocessing\": \"Converted to w2v format with `python -m gensim.scripts.glove2word2vec -i <fname> -o glove-twitter-100.txt`.\",\n",
            "            \"read_more\": [\n",
            "                \"https://nlp.stanford.edu/projects/glove/\",\n",
            "                \"https://nlp.stanford.edu/pubs/glove.pdf\"\n",
            "            ],\n",
            "            \"checksum\": \"b04f7bed38756d64cf55b58ce7e97b15\",\n",
            "            \"file_name\": \"glove-twitter-100.gz\",\n",
            "            \"parts\": 1\n",
            "        },\n",
            "        \"glove-twitter-200\": {\n",
            "            \"num_records\": 1193514,\n",
            "            \"file_size\": 795373100,\n",
            "            \"base_dataset\": \"Twitter (2B tweets, 27B tokens, 1.2M vocab, uncased)\",\n",
            "            \"reader_code\": \"https://github.com/RaRe-Technologies/gensim-data/releases/download/glove-twitter-200/__init__.py\",\n",
            "            \"license\": \"http://opendatacommons.org/licenses/pddl/\",\n",
            "            \"parameters\": {\n",
            "                \"dimension\": 200\n",
            "            },\n",
            "            \"description\": \"Pre-trained vectors based on 2B tweets, 27B tokens, 1.2M vocab, uncased (https://nlp.stanford.edu/projects/glove/).\",\n",
            "            \"preprocessing\": \"Converted to w2v format with `python -m gensim.scripts.glove2word2vec -i <fname> -o glove-twitter-200.txt`.\",\n",
            "            \"read_more\": [\n",
            "                \"https://nlp.stanford.edu/projects/glove/\",\n",
            "                \"https://nlp.stanford.edu/pubs/glove.pdf\"\n",
            "            ],\n",
            "            \"checksum\": \"e52e8392d1860b95d5308a525817d8f9\",\n",
            "            \"file_name\": \"glove-twitter-200.gz\",\n",
            "            \"parts\": 1\n",
            "        },\n",
            "        \"__testing_word2vec-matrix-synopsis\": {\n",
            "            \"description\": \"[THIS IS ONLY FOR TESTING] Word vecrors of the movie matrix.\",\n",
            "            \"parameters\": {\n",
            "                \"dimensions\": 50\n",
            "            },\n",
            "            \"preprocessing\": \"Converted to w2v using a preprocessed corpus. Converted to w2v format with `python3.5 -m gensim.models.word2vec -train <input_filename> -iter 50 -output <output_filename>`.\",\n",
            "            \"read_more\": [],\n",
            "            \"checksum\": \"534dcb8b56a360977a269b7bfc62d124\",\n",
            "            \"file_name\": \"__testing_word2vec-matrix-synopsis.gz\",\n",
            "            \"parts\": 1\n",
            "        }\n",
            "    }\n",
            "}\n",
            "[==================================================] 100.0% 1662.8/1662.8MB downloaded\n",
            "/root/gensim-data/word2vec-google-news-300/word2vec-google-news-300.gz\n"
          ]
        }
      ],
      "source": [
        "import gensim\n",
        "import gensim.downloader as api\n",
        "import json\n",
        "info = api.info()\n",
        "print(json.dumps(info, indent=4))\n",
        "print(api.load('word2vec-google-news-300', return_path=True))"
      ]
    },
    {
      "cell_type": "code",
      "execution_count": null,
      "metadata": {
        "id": "WoGQWOiVM7Nh"
      },
      "outputs": [],
      "source": [
        "w2v_model = gensim.models.KeyedVectors.load_word2vec_format('/root/gensim-data/word2vec-google-news-300/word2vec-google-news-300.gz', binary=True)"
      ]
    },
    {
      "cell_type": "code",
      "execution_count": null,
      "metadata": {
        "id": "6hsLuMaL_XSF"
      },
      "outputs": [],
      "source": [
        "tagged_sents[2]\n",
        "tagged_dataset=[]\n",
        "for sent in tagged_sents:\n",
        "    my_arr=[]\n",
        "    for word in sent:\n",
        "        if word[1]==word[1].lower():\n",
        "            #my_arr.append([word.replace(\"[\",\"\").replace(\"]\",\"\").replace(\"\\'\",\"\"),\"None\"])\n",
        "        #elif word[0]==\"(\":\n",
        "            synset=word.split(\" \")[0][1:]\n",
        "            if word.split(\" \")[1][1:] == \"NE\":\n",
        "                pos_tag=\"NN\"\n",
        "                chunk=word.split(\" \")[3:]\n",
        "                chunk=\" \".join(chunk).strip(\")(\")\n",
        "            else:\n",
        "                pos_tag=word.split(\" \")[1][1:]\n",
        "                chunk=word.split(\" \")[2:]\n",
        "                chunk=\" \".join(chunk).strip(\")(\")\n",
        "            #chunk=(\" \").join(word.split(\" \")[1:]).strip()\n",
        "            #if chunk[0]==\"(\":\n",
        "            #    chunk=chunk[1:-2].strip()\n",
        "            #    if chunk[:2]==\"NE\":\n",
        "            #        chunk=chunk[2:].strip()\n",
        "            #    else:\n",
        "            #        print(\"found other tag \", chunk[:5])\n",
        "            #else:\n",
        "            #    chunk=chunk[:-1].strip()\n",
        "            my_arr.append([chunk,synset,pos_tag])\n",
        "                \n",
        "        else:\n",
        "            pos_tag=word.split(\" \")[0][1:]\n",
        "            chunk=word.split(\" \")[1][:-1]\n",
        "            my_arr.append([chunk,None,pos_tag])\n",
        "    tagged_dataset.append(my_arr)"
      ]
    },
    {
      "cell_type": "code",
      "execution_count": null,
      "metadata": {
        "id": "Ef7vKm4PNEu6"
      },
      "outputs": [],
      "source": [
        "# try:\n",
        "#         word_vec = w2v_model.wv[word]\n",
        "#     except:\n",
        "#         word_vec = np.random.rand(300)\n",
        "\n",
        "# synids=wn.synsets(chunk)\n",
        "# for id in synids:\n",
        "#                 if id.name().split(\".\")[1]==\"n\":\n",
        "#                     new_synids.append(id)\n",
        "#             synids=new_synids\n",
        "# if len(synids)==0 and len(chunk.split(\" \"))>1:\n",
        "#                 # find senses for each component words of chunk and whichever scores highest take it as the sense of the whole chunk\n",
        "#                 pass\n",
        "#             elif len(synids)==0 and len(chunk.split(\" \"))==1:\n",
        "#                 my_arr.append([chunk,\"None\"])\n",
        "#             elif len(chunk.split(\" \"))==1:"
      ]
    },
    {
      "cell_type": "code",
      "execution_count": null,
      "metadata": {
        "colab": {
          "base_uri": "https://localhost:8080/",
          "height": 588
        },
        "id": "Y0y6_MNvMaf7",
        "outputId": "ca08aac6-d3d9-43fb-c157-562319a583ac"
      },
      "outputs": [
        {
          "output_type": "stream",
          "name": "stderr",
          "text": [
            "[nltk_data] Downloading package omw-1.4 to /root/nltk_data...\n",
            "/usr/local/lib/python3.7/dist-packages/ipykernel_launcher.py:18: DeprecationWarning: Call to deprecated `wv` (Attribute will be removed in 4.0.0, use self instead).\n",
            "/usr/local/lib/python3.7/dist-packages/ipykernel_launcher.py:23: DeprecationWarning: Call to deprecated `wv` (Attribute will be removed in 4.0.0, use self instead).\n",
            "/usr/local/lib/python3.7/dist-packages/ipykernel_launcher.py:99: DeprecationWarning: Call to deprecated `wv` (Attribute will be removed in 4.0.0, use self instead).\n",
            "/usr/local/lib/python3.7/dist-packages/ipykernel_launcher.py:104: DeprecationWarning: Call to deprecated `wv` (Attribute will be removed in 4.0.0, use self instead).\n",
            "/usr/local/lib/python3.7/dist-packages/ipykernel_launcher.py:59: DeprecationWarning: Call to deprecated `wv` (Attribute will be removed in 4.0.0, use self instead).\n",
            "/usr/local/lib/python3.7/dist-packages/ipykernel_launcher.py:64: DeprecationWarning: Call to deprecated `wv` (Attribute will be removed in 4.0.0, use self instead).\n"
          ]
        },
        {
          "output_type": "error",
          "ename": "KeyboardInterrupt",
          "evalue": "ignored",
          "traceback": [
            "\u001b[0;31m---------------------------------------------------------------------------\u001b[0m",
            "\u001b[0;31mKeyError\u001b[0m                                  Traceback (most recent call last)",
            "\u001b[0;32m<ipython-input-11-044fcdb9c20e>\u001b[0m in \u001b[0;36m<module>\u001b[0;34m\u001b[0m\n\u001b[1;32m     63\u001b[0m                             \u001b[0;32mtry\u001b[0m\u001b[0;34m:\u001b[0m\u001b[0;34m\u001b[0m\u001b[0;34m\u001b[0m\u001b[0m\n\u001b[0;32m---> 64\u001b[0;31m                                 \u001b[0mword_vec\u001b[0m\u001b[0;34m=\u001b[0m\u001b[0mnp\u001b[0m\u001b[0;34m.\u001b[0m\u001b[0mappend\u001b[0m\u001b[0;34m(\u001b[0m\u001b[0mword_vec\u001b[0m\u001b[0;34m,\u001b[0m\u001b[0mnp\u001b[0m\u001b[0;34m.\u001b[0m\u001b[0mexpand_dims\u001b[0m\u001b[0;34m(\u001b[0m\u001b[0mw2v_model\u001b[0m\u001b[0;34m.\u001b[0m\u001b[0mwv\u001b[0m\u001b[0;34m[\u001b[0m\u001b[0mword\u001b[0m\u001b[0;34m]\u001b[0m\u001b[0;34m,\u001b[0m\u001b[0maxis\u001b[0m\u001b[0;34m=\u001b[0m\u001b[0;36m0\u001b[0m\u001b[0;34m)\u001b[0m\u001b[0;34m,\u001b[0m\u001b[0maxis\u001b[0m\u001b[0;34m=\u001b[0m\u001b[0;36m0\u001b[0m\u001b[0;34m)\u001b[0m\u001b[0;34m\u001b[0m\u001b[0;34m\u001b[0m\u001b[0m\n\u001b[0m\u001b[1;32m     65\u001b[0m                             \u001b[0;32mexcept\u001b[0m\u001b[0;34m:\u001b[0m\u001b[0;34m\u001b[0m\u001b[0;34m\u001b[0m\u001b[0m\n",
            "\u001b[0;32m/usr/local/lib/python3.7/dist-packages/gensim/models/keyedvectors.py\u001b[0m in \u001b[0;36m__getitem__\u001b[0;34m(self, entities)\u001b[0m\n\u001b[1;32m    336\u001b[0m             \u001b[0;31m# allow calls like trained_model['office'], as a shorthand for trained_model[['office']]\u001b[0m\u001b[0;34m\u001b[0m\u001b[0;34m\u001b[0m\u001b[0;34m\u001b[0m\u001b[0m\n\u001b[0;32m--> 337\u001b[0;31m             \u001b[0;32mreturn\u001b[0m \u001b[0mself\u001b[0m\u001b[0;34m.\u001b[0m\u001b[0mget_vector\u001b[0m\u001b[0;34m(\u001b[0m\u001b[0mentities\u001b[0m\u001b[0;34m)\u001b[0m\u001b[0;34m\u001b[0m\u001b[0;34m\u001b[0m\u001b[0m\n\u001b[0m\u001b[1;32m    338\u001b[0m \u001b[0;34m\u001b[0m\u001b[0m\n",
            "\u001b[0;32m/usr/local/lib/python3.7/dist-packages/gensim/models/keyedvectors.py\u001b[0m in \u001b[0;36mget_vector\u001b[0;34m(self, word)\u001b[0m\n\u001b[1;32m    454\u001b[0m     \u001b[0;32mdef\u001b[0m \u001b[0mget_vector\u001b[0m\u001b[0;34m(\u001b[0m\u001b[0mself\u001b[0m\u001b[0;34m,\u001b[0m \u001b[0mword\u001b[0m\u001b[0;34m)\u001b[0m\u001b[0;34m:\u001b[0m\u001b[0;34m\u001b[0m\u001b[0;34m\u001b[0m\u001b[0m\n\u001b[0;32m--> 455\u001b[0;31m         \u001b[0;32mreturn\u001b[0m \u001b[0mself\u001b[0m\u001b[0;34m.\u001b[0m\u001b[0mword_vec\u001b[0m\u001b[0;34m(\u001b[0m\u001b[0mword\u001b[0m\u001b[0;34m)\u001b[0m\u001b[0;34m\u001b[0m\u001b[0;34m\u001b[0m\u001b[0m\n\u001b[0m\u001b[1;32m    456\u001b[0m \u001b[0;34m\u001b[0m\u001b[0m\n",
            "\u001b[0;32m/usr/local/lib/python3.7/dist-packages/gensim/models/keyedvectors.py\u001b[0m in \u001b[0;36mword_vec\u001b[0;34m(self, word, use_norm)\u001b[0m\n\u001b[1;32m    451\u001b[0m         \u001b[0;32melse\u001b[0m\u001b[0;34m:\u001b[0m\u001b[0;34m\u001b[0m\u001b[0;34m\u001b[0m\u001b[0m\n\u001b[0;32m--> 452\u001b[0;31m             \u001b[0;32mraise\u001b[0m \u001b[0mKeyError\u001b[0m\u001b[0;34m(\u001b[0m\u001b[0;34m\"word '%s' not in vocabulary\"\u001b[0m \u001b[0;34m%\u001b[0m \u001b[0mword\u001b[0m\u001b[0;34m)\u001b[0m\u001b[0;34m\u001b[0m\u001b[0;34m\u001b[0m\u001b[0m\n\u001b[0m\u001b[1;32m    453\u001b[0m \u001b[0;34m\u001b[0m\u001b[0m\n",
            "\u001b[0;31mKeyError\u001b[0m: \"word 'of' not in vocabulary\"",
            "\nDuring handling of the above exception, another exception occurred:\n",
            "\u001b[0;31mKeyboardInterrupt\u001b[0m                         Traceback (most recent call last)",
            "\u001b[0;32m<ipython-input-11-044fcdb9c20e>\u001b[0m in \u001b[0;36m<module>\u001b[0;34m\u001b[0m\n\u001b[1;32m     64\u001b[0m                                 \u001b[0mword_vec\u001b[0m\u001b[0;34m=\u001b[0m\u001b[0mnp\u001b[0m\u001b[0;34m.\u001b[0m\u001b[0mappend\u001b[0m\u001b[0;34m(\u001b[0m\u001b[0mword_vec\u001b[0m\u001b[0;34m,\u001b[0m\u001b[0mnp\u001b[0m\u001b[0;34m.\u001b[0m\u001b[0mexpand_dims\u001b[0m\u001b[0;34m(\u001b[0m\u001b[0mw2v_model\u001b[0m\u001b[0;34m.\u001b[0m\u001b[0mwv\u001b[0m\u001b[0;34m[\u001b[0m\u001b[0mword\u001b[0m\u001b[0;34m]\u001b[0m\u001b[0;34m,\u001b[0m\u001b[0maxis\u001b[0m\u001b[0;34m=\u001b[0m\u001b[0;36m0\u001b[0m\u001b[0;34m)\u001b[0m\u001b[0;34m,\u001b[0m\u001b[0maxis\u001b[0m\u001b[0;34m=\u001b[0m\u001b[0;36m0\u001b[0m\u001b[0;34m)\u001b[0m\u001b[0;34m\u001b[0m\u001b[0;34m\u001b[0m\u001b[0m\n\u001b[1;32m     65\u001b[0m                             \u001b[0;32mexcept\u001b[0m\u001b[0;34m:\u001b[0m\u001b[0;34m\u001b[0m\u001b[0;34m\u001b[0m\u001b[0m\n\u001b[0;32m---> 66\u001b[0;31m                                 \u001b[0mword_vec\u001b[0m\u001b[0;34m=\u001b[0m\u001b[0mnp\u001b[0m\u001b[0;34m.\u001b[0m\u001b[0mappend\u001b[0m\u001b[0;34m(\u001b[0m\u001b[0mword_vec\u001b[0m\u001b[0;34m,\u001b[0m\u001b[0mnp\u001b[0m\u001b[0;34m.\u001b[0m\u001b[0mexpand_dims\u001b[0m\u001b[0;34m(\u001b[0m\u001b[0mnp\u001b[0m\u001b[0;34m.\u001b[0m\u001b[0mrandom\u001b[0m\u001b[0;34m.\u001b[0m\u001b[0mrand\u001b[0m\u001b[0;34m(\u001b[0m\u001b[0;36m300\u001b[0m\u001b[0;34m)\u001b[0m\u001b[0;34m,\u001b[0m\u001b[0;36m0\u001b[0m\u001b[0;34m)\u001b[0m\u001b[0;34m,\u001b[0m\u001b[0maxis\u001b[0m\u001b[0;34m=\u001b[0m\u001b[0;36m0\u001b[0m\u001b[0;34m)\u001b[0m\u001b[0;34m\u001b[0m\u001b[0;34m\u001b[0m\u001b[0m\n\u001b[0m\u001b[1;32m     67\u001b[0m                     \u001b[0mword_vec\u001b[0m\u001b[0;34m=\u001b[0m\u001b[0mnp\u001b[0m\u001b[0;34m.\u001b[0m\u001b[0mmean\u001b[0m\u001b[0;34m(\u001b[0m\u001b[0mword_vec\u001b[0m\u001b[0;34m,\u001b[0m\u001b[0maxis\u001b[0m\u001b[0;34m=\u001b[0m\u001b[0;36m0\u001b[0m\u001b[0;34m)\u001b[0m\u001b[0;34m\u001b[0m\u001b[0;34m\u001b[0m\u001b[0m\n\u001b[1;32m     68\u001b[0m                     \u001b[0mscores\u001b[0m\u001b[0;34m.\u001b[0m\u001b[0mappend\u001b[0m\u001b[0;34m(\u001b[0m\u001b[0mnp\u001b[0m\u001b[0;34m.\u001b[0m\u001b[0mdot\u001b[0m\u001b[0;34m(\u001b[0m\u001b[0mword_vec\u001b[0m\u001b[0;34m,\u001b[0m\u001b[0mcontext_vec\u001b[0m\u001b[0;34m)\u001b[0m\u001b[0;34m.\u001b[0m\u001b[0mitem\u001b[0m\u001b[0;34m(\u001b[0m\u001b[0;34m)\u001b[0m\u001b[0;34m)\u001b[0m\u001b[0;34m\u001b[0m\u001b[0;34m\u001b[0m\u001b[0m\n",
            "\u001b[0;32m<__array_function__ internals>\u001b[0m in \u001b[0;36mexpand_dims\u001b[0;34m(*args, **kwargs)\u001b[0m\n",
            "\u001b[0;32m/usr/local/lib/python3.7/dist-packages/numpy/lib/shape_base.py\u001b[0m in \u001b[0;36mexpand_dims\u001b[0;34m(a, axis)\u001b[0m\n\u001b[1;32m    595\u001b[0m \u001b[0;34m\u001b[0m\u001b[0m\n\u001b[1;32m    596\u001b[0m     \u001b[0mout_ndim\u001b[0m \u001b[0;34m=\u001b[0m \u001b[0mlen\u001b[0m\u001b[0;34m(\u001b[0m\u001b[0maxis\u001b[0m\u001b[0;34m)\u001b[0m \u001b[0;34m+\u001b[0m \u001b[0ma\u001b[0m\u001b[0;34m.\u001b[0m\u001b[0mndim\u001b[0m\u001b[0;34m\u001b[0m\u001b[0;34m\u001b[0m\u001b[0m\n\u001b[0;32m--> 597\u001b[0;31m     \u001b[0maxis\u001b[0m \u001b[0;34m=\u001b[0m \u001b[0mnormalize_axis_tuple\u001b[0m\u001b[0;34m(\u001b[0m\u001b[0maxis\u001b[0m\u001b[0;34m,\u001b[0m \u001b[0mout_ndim\u001b[0m\u001b[0;34m)\u001b[0m\u001b[0;34m\u001b[0m\u001b[0;34m\u001b[0m\u001b[0m\n\u001b[0m\u001b[1;32m    598\u001b[0m \u001b[0;34m\u001b[0m\u001b[0m\n\u001b[1;32m    599\u001b[0m     \u001b[0mshape_it\u001b[0m \u001b[0;34m=\u001b[0m \u001b[0miter\u001b[0m\u001b[0;34m(\u001b[0m\u001b[0ma\u001b[0m\u001b[0;34m.\u001b[0m\u001b[0mshape\u001b[0m\u001b[0;34m)\u001b[0m\u001b[0;34m\u001b[0m\u001b[0;34m\u001b[0m\u001b[0m\n",
            "\u001b[0;32m/usr/local/lib/python3.7/dist-packages/numpy/core/numeric.py\u001b[0m in \u001b[0;36mnormalize_axis_tuple\u001b[0;34m(axis, ndim, argname, allow_duplicate)\u001b[0m\n\u001b[1;32m   1383\u001b[0m             \u001b[0;32mpass\u001b[0m\u001b[0;34m\u001b[0m\u001b[0;34m\u001b[0m\u001b[0m\n\u001b[1;32m   1384\u001b[0m     \u001b[0;31m# Going via an iterator directly is slower than via list comprehension.\u001b[0m\u001b[0;34m\u001b[0m\u001b[0;34m\u001b[0m\u001b[0;34m\u001b[0m\u001b[0m\n\u001b[0;32m-> 1385\u001b[0;31m     \u001b[0maxis\u001b[0m \u001b[0;34m=\u001b[0m \u001b[0mtuple\u001b[0m\u001b[0;34m(\u001b[0m\u001b[0;34m[\u001b[0m\u001b[0mnormalize_axis_index\u001b[0m\u001b[0;34m(\u001b[0m\u001b[0max\u001b[0m\u001b[0;34m,\u001b[0m \u001b[0mndim\u001b[0m\u001b[0;34m,\u001b[0m \u001b[0margname\u001b[0m\u001b[0;34m)\u001b[0m \u001b[0;32mfor\u001b[0m \u001b[0max\u001b[0m \u001b[0;32min\u001b[0m \u001b[0maxis\u001b[0m\u001b[0;34m]\u001b[0m\u001b[0;34m)\u001b[0m\u001b[0;34m\u001b[0m\u001b[0;34m\u001b[0m\u001b[0m\n\u001b[0m\u001b[1;32m   1386\u001b[0m     \u001b[0;32mif\u001b[0m \u001b[0;32mnot\u001b[0m \u001b[0mallow_duplicate\u001b[0m \u001b[0;32mand\u001b[0m \u001b[0mlen\u001b[0m\u001b[0;34m(\u001b[0m\u001b[0mset\u001b[0m\u001b[0;34m(\u001b[0m\u001b[0maxis\u001b[0m\u001b[0;34m)\u001b[0m\u001b[0;34m)\u001b[0m \u001b[0;34m!=\u001b[0m \u001b[0mlen\u001b[0m\u001b[0;34m(\u001b[0m\u001b[0maxis\u001b[0m\u001b[0;34m)\u001b[0m\u001b[0;34m:\u001b[0m\u001b[0;34m\u001b[0m\u001b[0;34m\u001b[0m\u001b[0m\n\u001b[1;32m   1387\u001b[0m         \u001b[0;32mif\u001b[0m \u001b[0margname\u001b[0m\u001b[0;34m:\u001b[0m\u001b[0;34m\u001b[0m\u001b[0;34m\u001b[0m\u001b[0m\n",
            "\u001b[0;31mKeyboardInterrupt\u001b[0m: "
          ]
        }
      ],
      "source": [
        "#extended lesk\n",
        "\n",
        "from nltk.corpus import wordnet as wn\n",
        "import numpy as np\n",
        "nltk.download('omw-1.4')\n",
        "\n",
        "predict_dataset=[]\n",
        "for sent in tagged_dataset:\n",
        "    chunks_in_sent=[]\n",
        "    for tuple_ in sent:\n",
        "        chunks_in_sent.append(tuple_[0])\n",
        "    chunks_in_sent=\" \".join(chunks_in_sent)\n",
        "    context=chunks_in_sent.split(\" \")\n",
        "    context_vec=np.array([])\n",
        "    for word in context:\n",
        "        if len(context_vec)==0:\n",
        "            try:\n",
        "                context_vec=np.expand_dims(w2v_model.wv[word],0)\n",
        "            except:\n",
        "                context_vec = np.expand_dims(np.random.rand(300),0)\n",
        "        else:\n",
        "            try:\n",
        "                context_vec=np.append(context_vec,np.expand_dims(w2v_model.wv[word],axis=0),axis=0)\n",
        "            except:\n",
        "                context_vec=np.append(context_vec,np.expand_dims(np.random.rand(300),0),axis=0)\n",
        "    context_vec=np.mean(context_vec,axis=0)\n",
        "\n",
        "\n",
        "    my_arr=[]\n",
        "    for tuple_ in sent:\n",
        "        \n",
        "        chunk,sense,pos_tag=tuple_\n",
        "        \n",
        "        if pos_tag!=\"NN\":\n",
        "            my_arr.append([])\n",
        "        else:\n",
        "            if len(chunk.split(\" \"))<=1 or len(wn.synsets(chunk)) >0:\n",
        "                \n",
        "                synids=wn.synsets(chunk)\n",
        "                new_synids=[]\n",
        "                for id in synids:\n",
        "                    if id.name().split(\".\")[1]==\"n\":\n",
        "                        new_synids.append(id)\n",
        "                synids=new_synids\n",
        "                scores=[]\n",
        "                for id in synids:\n",
        "                    words=id.definition().split(\" \")\n",
        "                    for id2 in id.hypernyms():\n",
        "                        for le in id2.definition().split(\" \"):\n",
        "                            words.append(le)\n",
        "                    for id2 in id.hyponyms():\n",
        "                        for le in id2.definition().split(\" \"):\n",
        "                            words.append(le)\n",
        "                    \n",
        "                    word_vec=np.array([])\n",
        "                    for word in words:\n",
        "                        if len(word_vec)==0:\n",
        "                            try:\n",
        "                                word_vec=np.expand_dims(w2v_model.wv[word],0)\n",
        "                            except:\n",
        "                                word_vec = np.expand_dims(np.random.rand(300),0)\n",
        "                        else:\n",
        "                            try:\n",
        "                                word_vec=np.append(word_vec,np.expand_dims(w2v_model.wv[word],axis=0),axis=0)\n",
        "                            except:\n",
        "                                word_vec=np.append(word_vec,np.expand_dims(np.random.rand(300),0),axis=0)\n",
        "                    word_vec=np.mean(word_vec,axis=0)\n",
        "                    scores.append(np.dot(word_vec,context_vec).item())\n",
        "                if len(scores) == 0:\n",
        "                    winning_id=None\n",
        "                    my_arr.append([chunk,winning_id])\n",
        "                else:\n",
        "\n",
        "                    winning_id=synids[scores.index(max(scores))]\n",
        "                    my_arr.append([chunk,winning_id])\n",
        "            else:\n",
        "                winning_scores=[]\n",
        "                winning_ids=[]\n",
        "                for word_chunk in chunk:\n",
        "                    synids=wn.synsets(word_chunk)\n",
        "                    new_synids=[]\n",
        "                    for id in synids:\n",
        "                        if id.name().split(\".\")[1]==\"n\":\n",
        "                            new_synids.append(id)\n",
        "                    synids=new_synids\n",
        "                    scores=[]\n",
        "                    for id in synids:\n",
        "                        words=id.definition().split(\" \")\n",
        "                        for id2 in id.hypernyms():\n",
        "                            for le in id2.definition().split(\" \"):\n",
        "                                words.append(le)\n",
        "                        for id2 in id.hyponyms():\n",
        "                            for le in id2.definition().split(\" \"):\n",
        "                                words.append(le)\n",
        "                        word_vec=np.array([])\n",
        "                        for word in words:\n",
        "                            if len(word_vec)==0:\n",
        "                                try:\n",
        "                                    word_vec=np.expand_dims(w2v_model.wv[word],0)\n",
        "                                except:\n",
        "                                    word_vec = np.expand_dims(np.random.rand(300),0)\n",
        "                            else:\n",
        "                                try:\n",
        "                                    word_vec=np.append(word_vec,np.expand_dims(w2v_model.wv[word],axis=0),axis=0)\n",
        "                                except:\n",
        "                                    word_vec=np.append(word_vec,np.expand_dims(np.random.rand(300),0),axis=0)\n",
        "                        word_vec=np.mean(word_vec,axis=0)\n",
        "                        scores.append(np.dot(word_vec,context_vec).item())\n",
        "                    if len(scores) == 0:\n",
        "                        winning_id=None\n",
        "                        winning_scores.append(-999)\n",
        "                        winning_ids.append(winning_id)\n",
        "                    else:\n",
        "\n",
        "                        winning_id=synids[scores.index(max(scores))]\n",
        "                        winning_scores.append(max(scores))\n",
        "                        winning_ids.append(winning_id)\n",
        "                \n",
        "                max_score=max(winning_scores)\n",
        "                max_id=winning_ids[winning_scores.index(max_score)]\n",
        "                my_arr.append([chunk,max_id])\n",
        "    predict_dataset.append(my_arr)"
      ]
    },
    {
      "cell_type": "code",
      "execution_count": null,
      "metadata": {
        "colab": {
          "base_uri": "https://localhost:8080/",
          "height": 235
        },
        "id": "VjwMdYmZiw_D",
        "outputId": "17af88e4-e314-481e-8ed7-385fa7c1bcb7"
      },
      "outputs": [
        {
          "output_type": "error",
          "ename": "IndexError",
          "evalue": "ignored",
          "traceback": [
            "\u001b[0;31m---------------------------------------------------------------------------\u001b[0m",
            "\u001b[0;31mIndexError\u001b[0m                                Traceback (most recent call last)",
            "\u001b[0;32m<ipython-input-12-abe7f5ccc2f6>\u001b[0m in \u001b[0;36m<module>\u001b[0;34m\u001b[0m\n\u001b[1;32m      7\u001b[0m             \u001b[0;32mif\u001b[0m \u001b[0msynset0\u001b[0m\u001b[0;34m!=\u001b[0m\u001b[0;32mNone\u001b[0m\u001b[0;34m:\u001b[0m\u001b[0;34m\u001b[0m\u001b[0;34m\u001b[0m\u001b[0m\n\u001b[1;32m      8\u001b[0m                 \u001b[0mactual\u001b[0m\u001b[0;34m.\u001b[0m\u001b[0mappend\u001b[0m\u001b[0;34m(\u001b[0m\u001b[0msynset0\u001b[0m\u001b[0;34m)\u001b[0m\u001b[0;34m\u001b[0m\u001b[0;34m\u001b[0m\u001b[0m\n\u001b[0;32m----> 9\u001b[0;31m                 \u001b[0;32mif\u001b[0m \u001b[0mlen\u001b[0m\u001b[0;34m(\u001b[0m\u001b[0mpredict_dataset\u001b[0m\u001b[0;34m[\u001b[0m\u001b[0mi\u001b[0m\u001b[0;34m]\u001b[0m\u001b[0;34m[\u001b[0m\u001b[0mj\u001b[0m\u001b[0;34m]\u001b[0m\u001b[0;34m)\u001b[0m\u001b[0;34m==\u001b[0m\u001b[0;36m0\u001b[0m\u001b[0;34m:\u001b[0m\u001b[0;34m\u001b[0m\u001b[0;34m\u001b[0m\u001b[0m\n\u001b[0m\u001b[1;32m     10\u001b[0m                     \u001b[0mprint\u001b[0m\u001b[0;34m(\u001b[0m\u001b[0mtagged_dataset\u001b[0m\u001b[0;34m[\u001b[0m\u001b[0mi\u001b[0m\u001b[0;34m]\u001b[0m\u001b[0;34m[\u001b[0m\u001b[0mj\u001b[0m\u001b[0;34m]\u001b[0m\u001b[0;34m)\u001b[0m\u001b[0;34m\u001b[0m\u001b[0;34m\u001b[0m\u001b[0m\n\u001b[1;32m     11\u001b[0m                     \u001b[0;32mbreak\u001b[0m\u001b[0;34m\u001b[0m\u001b[0;34m\u001b[0m\u001b[0m\n",
            "\u001b[0;31mIndexError\u001b[0m: list index out of range"
          ]
        }
      ],
      "source": [
        "output=[]\n",
        "actual=[]\n",
        "for i in range(len(tagged_dataset)):\n",
        "    for j in range(len(tagged_dataset[i])):\n",
        "        chunk0,synset0,tag0=tagged_dataset[i][j]\n",
        "        if tag0==\"NN\":\n",
        "            if synset0!=None:\n",
        "                actual.append(synset0)\n",
        "                if len(predict_dataset[i][j])==0:\n",
        "                    print(tagged_dataset[i][j])\n",
        "                    break\n",
        "                if predict_dataset[i][j][1] is None:\n",
        "                    output.append(\"None\")\n",
        "                else:\n",
        "                    output.append(predict_dataset[i][j][1].name())\n"
      ]
    },
    {
      "cell_type": "code",
      "execution_count": null,
      "metadata": {
        "id": "j27PnPYnlXYz"
      },
      "outputs": [],
      "source": [
        "from sklearn.metrics import precision_score, recall_score, f1_score, accuracy_score\n",
        "print(precision_score(actual,output,average=\"weighted\"))\n",
        "print(recall_score(actual,output,average=\"weighted\"))\n",
        "print(f1_score(actual,output,average=\"weighted\"))"
      ]
    },
    {
      "cell_type": "code",
      "source": [
        "from sklearn.metrics import confusion_matrix\n",
        "a=confusion_matrix(actual[:-1],output,labels=b)\n"
      ],
      "metadata": {
        "id": "7O2IGhJJB_jd"
      },
      "execution_count": null,
      "outputs": []
    },
    {
      "cell_type": "code",
      "source": [
        "a.shape"
      ],
      "metadata": {
        "colab": {
          "base_uri": "https://localhost:8080/"
        },
        "id": "7cDNF6KJF-tX",
        "outputId": "046a9d1a-6c5c-4f79-9122-3aeed4538a50"
      },
      "execution_count": null,
      "outputs": [
        {
          "output_type": "execute_result",
          "data": {
            "text/plain": [
              "(7138, 7138)"
            ]
          },
          "metadata": {},
          "execution_count": 31
        }
      ]
    },
    {
      "cell_type": "code",
      "source": [],
      "metadata": {
        "id": "jyIuIBFsGRkc"
      },
      "execution_count": null,
      "outputs": []
    },
    {
      "cell_type": "code",
      "source": [
        "print(np.amax(a))\n",
        "result=np.where(a==np.amax(a))\n",
        "print(result)"
      ],
      "metadata": {
        "colab": {
          "base_uri": "https://localhost:8080/"
        },
        "id": "qKy6L8SfDYNx",
        "outputId": "eaef8df2-94a9-468c-88da-82c40ecac18f"
      },
      "execution_count": null,
      "outputs": [
        {
          "output_type": "stream",
          "name": "stdout",
          "text": [
            "68\n",
            "(array([2136]), array([3004]))\n"
          ]
        }
      ]
    },
    {
      "cell_type": "code",
      "source": [
        "set1=set(output)\n",
        "set2=set(actual)\n",
        "set3=set.union(set2)\n",
        "b=list(set3)"
      ],
      "metadata": {
        "id": "Cvikn1XaDrKz"
      },
      "execution_count": null,
      "outputs": []
    },
    {
      "cell_type": "code",
      "source": [
        "b[2136]"
      ],
      "metadata": {
        "colab": {
          "base_uri": "https://localhost:8080/",
          "height": 36
        },
        "id": "l7QCQE5RErsw",
        "outputId": "e03d71e4-7f37-4f96-9cf7-2579dfd420ab"
      },
      "execution_count": null,
      "outputs": [
        {
          "output_type": "execute_result",
          "data": {
            "text/plain": [
              "'type.n.01'"
            ],
            "application/vnd.google.colaboratory.intrinsic+json": {
              "type": "string"
            }
          },
          "metadata": {},
          "execution_count": 41
        }
      ]
    },
    {
      "cell_type": "code",
      "source": [
        "b[3004]"
      ],
      "metadata": {
        "colab": {
          "base_uri": "https://localhost:8080/",
          "height": 36
        },
        "id": "7HccavrFE0br",
        "outputId": "d36f62be-1d26-421e-9013-861331a7df7f"
      },
      "execution_count": null,
      "outputs": [
        {
          "output_type": "execute_result",
          "data": {
            "text/plain": [
              "'character.n.05'"
            ],
            "application/vnd.google.colaboratory.intrinsic+json": {
              "type": "string"
            }
          },
          "metadata": {},
          "execution_count": 42
        }
      ]
    },
    {
      "cell_type": "code",
      "source": [],
      "metadata": {
        "colab": {
          "base_uri": "https://localhost:8080/",
          "height": 36
        },
        "id": "QhBnrXSEFFoy",
        "outputId": "dbf42e55-7f08-4549-eb97-da77598bf961"
      },
      "execution_count": null,
      "outputs": [
        {
          "output_type": "execute_result",
          "data": {
            "text/plain": [
              "'a period of time containing 365 (or 366) days'"
            ],
            "application/vnd.google.colaboratory.intrinsic+json": {
              "type": "string"
            }
          },
          "metadata": {},
          "execution_count": 26
        }
      ]
    },
    {
      "cell_type": "code",
      "source": [
        "wn.synsets(\"type\")[4].definition()"
      ],
      "metadata": {
        "colab": {
          "base_uri": "https://localhost:8080/",
          "height": 36
        },
        "id": "s2ZuVWzKFS9q",
        "outputId": "d9410501-095d-40ac-f83e-7e86f366cd2e"
      },
      "execution_count": null,
      "outputs": [
        {
          "output_type": "execute_result",
          "data": {
            "text/plain": [
              "'all of the tokens of the same symbol'"
            ],
            "application/vnd.google.colaboratory.intrinsic+json": {
              "type": "string"
            }
          },
          "metadata": {},
          "execution_count": 47
        }
      ]
    },
    {
      "cell_type": "code",
      "source": [
        "wn.synsets(\"type\")[1].definition()"
      ],
      "metadata": {
        "colab": {
          "base_uri": "https://localhost:8080/",
          "height": 36
        },
        "id": "QGYCLaSYFOEz",
        "outputId": "49ebb8c7-17b8-4143-ae91-81a7f50c0aaa"
      },
      "execution_count": null,
      "outputs": [
        {
          "output_type": "execute_result",
          "data": {
            "text/plain": [
              "'a person of a specified kind (usually with many eccentricities)'"
            ],
            "application/vnd.google.colaboratory.intrinsic+json": {
              "type": "string"
            }
          },
          "metadata": {},
          "execution_count": 48
        }
      ]
    }
  ],
  "metadata": {
    "colab": {
      "provenance": []
    },
    "gpuClass": "standard",
    "kernelspec": {
      "display_name": "Python 3",
      "name": "python3"
    },
    "language_info": {
      "name": "python"
    }
  },
  "nbformat": 4,
  "nbformat_minor": 0
}